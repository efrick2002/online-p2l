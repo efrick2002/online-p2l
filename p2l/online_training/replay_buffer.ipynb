{
 "cells": [
  {
   "cell_type": "code",
   "execution_count": 1,
   "id": "700e56f6",
   "metadata": {},
   "outputs": [
    {
     "name": "stderr",
     "output_type": "stream",
     "text": [
      "/home/connor/miniconda3/envs/lmsys/lib/python3.10/site-packages/tqdm/auto.py:21: TqdmWarning: IProgress not found. Please update jupyter and ipywidgets. See https://ipywidgets.readthedocs.io/en/stable/user_install.html\n",
      "  from .autonotebook import tqdm as notebook_tqdm\n"
     ]
    }
   ],
   "source": [
    "from datasets import load_from_disk\n",
    "from collections import defaultdict, deque\n",
    "from tqdm import tqdm\n",
    "import random"
   ]
  },
  {
   "cell_type": "code",
   "execution_count": 2,
   "id": "f5aa7dd8",
   "metadata": {},
   "outputs": [],
   "source": [
    "chrono_data = load_from_disk('chrono_data/chrono_train_data/')"
   ]
  },
  {
   "cell_type": "code",
   "execution_count": 5,
   "id": "db02a203",
   "metadata": {},
   "outputs": [
    {
     "name": "stderr",
     "output_type": "stream",
     "text": [
      "  0%|          | 0/2247925 [00:00<?, ?it/s]"
     ]
    },
    {
     "name": "stderr",
     "output_type": "stream",
     "text": [
      " 48%|████▊     | 1073798/2247925 [4:02:31<7:59:51, 40.78it/s] "
     ]
    },
    {
     "ename": "KeyboardInterrupt",
     "evalue": "",
     "output_type": "error",
     "traceback": [
      "\u001b[0;31m---------------------------------------------------------------------------\u001b[0m",
      "\u001b[0;31mKeyboardInterrupt\u001b[0m                         Traceback (most recent call last)",
      "Cell \u001b[0;32mIn[5], line 14\u001b[0m\n\u001b[1;32m     12\u001b[0m \u001b[38;5;28;01mwhile\u001b[39;00m (\u001b[38;5;28mlen\u001b[39m(queue[curr_batch]) \u001b[38;5;241m>\u001b[39m \u001b[38;5;241m0\u001b[39m):\n\u001b[1;32m     13\u001b[0m     curr \u001b[38;5;241m=\u001b[39m queue[curr_batch]\u001b[38;5;241m.\u001b[39mpopleft()\n\u001b[0;32m---> 14\u001b[0m     \u001b[38;5;28;01mif\u001b[39;00m defer(chrono_data[curr][\u001b[38;5;124m'\u001b[39m\u001b[38;5;124mmodel_a\u001b[39m\u001b[38;5;124m'\u001b[39m], \u001b[43mchrono_data\u001b[49m\u001b[43m[\u001b[49m\u001b[43mcurr\u001b[49m\u001b[43m]\u001b[49m[\u001b[38;5;124m'\u001b[39m\u001b[38;5;124mmodel_b\u001b[39m\u001b[38;5;124m'\u001b[39m]):\n\u001b[1;32m     15\u001b[0m         queue[curr_batch\u001b[38;5;241m+\u001b[39m\u001b[38;5;241m1\u001b[39m]\u001b[38;5;241m.\u001b[39mappend(curr)\n\u001b[1;32m     16\u001b[0m     \u001b[38;5;28;01melse\u001b[39;00m:\n",
      "File \u001b[0;32m~/miniconda3/envs/lmsys/lib/python3.10/site-packages/datasets/arrow_dataset.py:2775\u001b[0m, in \u001b[0;36mDataset.__getitem__\u001b[0;34m(self, key)\u001b[0m\n\u001b[1;32m   2771\u001b[0m \u001b[38;5;129m@overload\u001b[39m\n\u001b[1;32m   2772\u001b[0m \u001b[38;5;28;01mdef\u001b[39;00m \u001b[38;5;21m__getitem__\u001b[39m(\u001b[38;5;28mself\u001b[39m, key: \u001b[38;5;28mstr\u001b[39m) \u001b[38;5;241m-\u001b[39m\u001b[38;5;241m>\u001b[39m \u001b[38;5;28mlist\u001b[39m:  \u001b[38;5;66;03m# noqa: F811\u001b[39;00m\n\u001b[1;32m   2773\u001b[0m     \u001b[38;5;241m.\u001b[39m\u001b[38;5;241m.\u001b[39m\u001b[38;5;241m.\u001b[39m\n\u001b[0;32m-> 2775\u001b[0m \u001b[38;5;28;01mdef\u001b[39;00m \u001b[38;5;21m__getitem__\u001b[39m(\u001b[38;5;28mself\u001b[39m, key):  \u001b[38;5;66;03m# noqa: F811\u001b[39;00m\n\u001b[1;32m   2776\u001b[0m \u001b[38;5;250m    \u001b[39m\u001b[38;5;124;03m\"\"\"Can be used to index columns (by string names) or rows (by integer index or iterable of indices or bools).\"\"\"\u001b[39;00m\n\u001b[1;32m   2777\u001b[0m     \u001b[38;5;28;01mreturn\u001b[39;00m \u001b[38;5;28mself\u001b[39m\u001b[38;5;241m.\u001b[39m_getitem(key)\n",
      "\u001b[0;31mKeyboardInterrupt\u001b[0m: "
     ]
    }
   ],
   "source": [
    "curr_batch = 0\n",
    "queue = defaultdict(deque)\n",
    "batch = defaultdict(deque)\n",
    "batch_size = 512\n",
    "num_data = len(chrono_data) \n",
    "model_cnts = defaultdict(int)\n",
    "gamma = 0.9999\n",
    "epsilon = 0.01\n",
    "random.seed(42)\n",
    "\n",
    "queue[0] = deque([i for i in range(num_data)])\n",
    "\n",
    "pbar = tqdm(total=num_data)\n",
    "\n",
    "num_proc = 0\n",
    "while queue[curr_batch]:\n",
    "    curr = queue[curr_batch].popleft()\n",
    "    if random.random() < min(1-epsilon, 1-gamma**(model_cnts[chrono_data[curr]['model_a']] + model_cnts[chrono_data[curr]['model_b']])):\n",
    "        queue[curr_batch+1].append(curr)\n",
    "    else:\n",
    "        num_proc += 1\n",
    "        batch[curr_batch].append(curr)\n",
    "        pbar.update(1)\n",
    "        model_cnts[chrono_data[curr]['model_a']] += 1\n",
    "        model_cnts[chrono_data[curr]['model_b']] += 1\n",
    "        if len(batch[curr_batch]) == batch_size:\n",
    "            queue[curr_batch+1].extend(queue[curr_batch])\n",
    "            queue[curr_batch].clear()\n",
    "            curr_batch += 1\n",
    "\n",
    "\n",
    "pbar.close()"
   ]
  },
  {
   "cell_type": "markdown",
   "id": "28ea4be1",
   "metadata": {},
   "source": [
    "##Processing Naive Replay Buffer Data"
   ]
  },
  {
   "cell_type": "code",
   "execution_count": 3,
   "id": "fb08bb92",
   "metadata": {},
   "outputs": [],
   "source": [
    "#selects random point from the past with probability epsilon, with replacement\n",
    "from collections import deque\n",
    "batch_size = 512\n",
    "data_order = [i for i in range(512 * 5)]\n",
    "replay_size = 52\n",
    "new_size = 460\n",
    "num_data = len(chrono_data)\n",
    "replay = [i for i in range(512 * 5)]\n",
    "\n",
    "data_flow = deque([i for i in range(512*5, num_data)])\n",
    "while data_flow:\n",
    "    new_elements = []\n",
    "    replay_elements = []\n",
    "    while data_flow and len(new_elements) < new_size:\n",
    "        new_elements.append(data_flow.popleft())\n",
    "    for _ in range(50):\n",
    "        random_index = random.randrange(len(replay))\n",
    "        value = replay[random_index]\n",
    "        replay_elements.append(replay.pop(random_index))\n",
    "        \n",
    "    replay += new_elements\n",
    "    data_order += new_elements + replay_elements\n"
   ]
  },
  {
   "cell_type": "code",
   "execution_count": 4,
   "id": "19d1e398",
   "metadata": {},
   "outputs": [],
   "source": [
    "replay_buffer = [chrono_data[i] for i in data_order]"
   ]
  },
  {
   "cell_type": "code",
   "execution_count": 8,
   "id": "7c9b7372",
   "metadata": {},
   "outputs": [],
   "source": [
    "import pandas as pd\n",
    "from datasets import Dataset\n",
    "df = pd.DataFrame(replay_buffer)\n",
    "dataset = Dataset.from_pandas(df)"
   ]
  },
  {
   "cell_type": "code",
   "execution_count": 10,
   "id": "4db9ecdd",
   "metadata": {},
   "outputs": [
    {
     "name": "stderr",
     "output_type": "stream",
     "text": [
      "Saving the dataset (6/6 shards): 100%|██████████| 2492025/2492025 [00:05<00:00, 476652.08 examples/s]\n"
     ]
    }
   ],
   "source": [
    "dataset.save_to_disk(\"chrono_data/naive_replay_buffer_eps_0.1\")"
   ]
  }
 ],
 "metadata": {
  "kernelspec": {
   "display_name": "lmsys",
   "language": "python",
   "name": "python3"
  },
  "language_info": {
   "codemirror_mode": {
    "name": "ipython",
    "version": 3
   },
   "file_extension": ".py",
   "mimetype": "text/x-python",
   "name": "python",
   "nbconvert_exporter": "python",
   "pygments_lexer": "ipython3",
   "version": "3.10.16"
  }
 },
 "nbformat": 4,
 "nbformat_minor": 5
}
